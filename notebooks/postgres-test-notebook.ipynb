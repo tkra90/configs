{
 "cells": [
  {
   "cell_type": "code",
   "execution_count": 1,
   "id": "6a730959-9ded-45a2-a8df-fe6cadac1f97",
   "metadata": {},
   "outputs": [
    {
     "name": "stdout",
     "output_type": "stream",
     "text": [
      "psycopg2-binary           2.9.9\n"
     ]
    }
   ],
   "source": [
    "# !pip install psycopg2\n",
    "!pip list | grep psy"
   ]
  },
  {
   "cell_type": "code",
   "execution_count": 2,
   "id": "d8b443e8-3aa1-43d9-aeba-7510ed514b25",
   "metadata": {},
   "outputs": [],
   "source": [
    "import psycopg2"
   ]
  },
  {
   "cell_type": "code",
   "execution_count": 7,
   "id": "c23cd054-685f-428f-b0ed-4099bb9dd438",
   "metadata": {},
   "outputs": [
    {
     "name": "stdout",
     "output_type": "stream",
     "text": [
      "Table exists: False\n",
      "Table 'EMPLOYEE' created successfully.\n",
      "Records inserted........\n"
     ]
    }
   ],
   "source": [
    "# Establishing the connection\n",
    "conn = psycopg2.connect(\n",
    "   database=\"postgres\",\n",
    "    user='postgres',\n",
    "    password='...',\n",
    "    host='postgres', \n",
    "    port= 5432\n",
    ")\n",
    "# Setting auto commit false\n",
    "conn.autocommit = True\n",
    "\n",
    "\n",
    "# Creating a cursor object using the cursor() method\n",
    "cursor = conn.cursor()\n",
    "\n",
    "try:\n",
    "\n",
    "    # Check if the table 'EMPLOYEE' exists\n",
    "    cursor.execute(\"SELECT EXISTS (SELECT 1 FROM information_schema.tables \\\n",
    "                    WHERE table_name = 'EMPLOYEE' AND table_schema = 'postgres.public');\")\n",
    "    table_exists = cursor.fetchone()[0]\n",
    "    print(f'Table exists: {table_exists}')\n",
    "    \n",
    "    \n",
    "    if not table_exists:\n",
    "        # Define the CREATE TABLE SQL statement\n",
    "        create_table_sql = '''\n",
    "            CREATE TABLE IF NOT EXISTS EMPLOYEE (\n",
    "                ID SERIAL PRIMARY KEY,\n",
    "                FIRST_NAME VARCHAR(255),\n",
    "                LAST_NAME VARCHAR(255),\n",
    "                AGE INT,\n",
    "                SEX CHAR(1),\n",
    "                INCOME DECIMAL(10, 2)\n",
    "            );\n",
    "        '''\n",
    "\n",
    "        # Execute the SQL statement to create the table\n",
    "        cursor.execute(create_table_sql)\n",
    "        \n",
    "        print(\"Table 'EMPLOYEE' created successfully.\")\n",
    "    else:\n",
    "        print('Already there')\n",
    "\n",
    "    \n",
    "    # Preparing SQL queries to INSERT a record into the database.\n",
    "    cursor.execute('''INSERT INTO EMPLOYEE(FIRST_NAME, LAST_NAME, AGE, SEX,\n",
    "       INCOME) VALUES ('Ramya', 'Rama priya', 27, 'F', 9000)''')\n",
    "    cursor.execute('''INSERT INTO EMPLOYEE(FIRST_NAME, LAST_NAME, AGE, SEX,\n",
    "       INCOME) VALUES ('Vinay', 'Battacharya', 20, 'M', 6000)''')\n",
    "    cursor.execute('''INSERT INTO EMPLOYEE(FIRST_NAME, LAST_NAME, AGE, SEX,\n",
    "       INCOME) VALUES ('Sharukh', 'Sheik', 25, 'M', 8300)''')\n",
    "    cursor.execute('''INSERT INTO EMPLOYEE(FIRST_NAME, LAST_NAME, AGE, SEX,\n",
    "       INCOME) VALUES ('Sarmista', 'Sharma', 26, 'F', 10000)''')\n",
    "    cursor.execute('''INSERT INTO EMPLOYEE(FIRST_NAME, LAST_NAME, AGE, SEX,\n",
    "       INCOME) VALUES ('Tripthi', 'Mishra', 24, 'F', 6000)''')\n",
    "\n",
    "    # Commit your changes in the database\n",
    "    conn.commit()\n",
    "    print(\"Records inserted........\")\n",
    "\n",
    "except (Exception, psycopg2.Error) as error:\n",
    "    print(\"Error creating table:\", error)\n",
    "\n",
    "finally:\n",
    "    if conn:\n",
    "        cursor.close()\n",
    "        conn.close()\n",
    "    else:\n",
    "        print('no conn at all')"
   ]
  },
  {
   "cell_type": "code",
   "execution_count": null,
   "id": "475ae1d8-ccfc-4cf6-ac3e-fa8309149a6f",
   "metadata": {},
   "outputs": [],
   "source": []
  }
 ],
 "metadata": {
  "kernelspec": {
   "display_name": "Python 3 (ipykernel)",
   "language": "python",
   "name": "python3"
  },
  "language_info": {
   "codemirror_mode": {
    "name": "ipython",
    "version": 3
   },
   "file_extension": ".py",
   "mimetype": "text/x-python",
   "name": "python",
   "nbconvert_exporter": "python",
   "pygments_lexer": "ipython3",
   "version": "3.9.18"
  }
 },
 "nbformat": 4,
 "nbformat_minor": 5
}
